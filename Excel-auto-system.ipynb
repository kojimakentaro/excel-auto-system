{
 "cells": [
  {
   "cell_type": "code",
   "execution_count": 1,
   "id": "asian-valentine",
   "metadata": {},
   "outputs": [],
   "source": [
    "import openpyxl"
   ]
  },
  {
   "cell_type": "code",
   "execution_count": 4,
   "id": "defined-communication",
   "metadata": {},
   "outputs": [],
   "source": [
    "wb = openpyxl.Workbook()\n",
    "wb.active\n",
    "wb.save(\"test.xlsx\")"
   ]
  },
  {
   "cell_type": "code",
   "execution_count": 6,
   "id": "inside-kernel",
   "metadata": {},
   "outputs": [
    {
     "data": {
      "text/plain": [
       "['Sheet']"
      ]
     },
     "execution_count": 6,
     "metadata": {},
     "output_type": "execute_result"
    }
   ],
   "source": [
    "wb.sheetnames"
   ]
  },
  {
   "cell_type": "code",
   "execution_count": 7,
   "id": "seeing-property",
   "metadata": {},
   "outputs": [
    {
     "name": "stdout",
     "output_type": "stream",
     "text": [
      "Sheet\n"
     ]
    }
   ],
   "source": [
    "for sheet_name in wb.sheetnames:\n",
    "    print(sheet_name)\n"
   ]
  },
  {
   "cell_type": "code",
   "execution_count": 9,
   "id": "wanted-tackle",
   "metadata": {},
   "outputs": [
    {
     "name": "stdout",
     "output_type": "stream",
     "text": [
      "Sheet\n"
     ]
    }
   ],
   "source": [
    "for sheet in wb:\n",
    "    print(sheet.title)"
   ]
  },
  {
   "cell_type": "code",
   "execution_count": 13,
   "id": "worse-bangkok",
   "metadata": {},
   "outputs": [
    {
     "name": "stdout",
     "output_type": "stream",
     "text": [
      "<Worksheet \"Sheet\">\n"
     ]
    }
   ],
   "source": [
    "ws = wb[\"Sheet\"]\n",
    "print(ws)"
   ]
  },
  {
   "cell_type": "code",
   "execution_count": 14,
   "id": "valuable-profit",
   "metadata": {},
   "outputs": [
    {
     "name": "stdout",
     "output_type": "stream",
     "text": [
      "<Worksheet \"Sheet\">\n"
     ]
    }
   ],
   "source": [
    "ws2 =wb.worksheets[0]\n",
    "print(ws2)"
   ]
  },
  {
   "cell_type": "code",
   "execution_count": 15,
   "id": "hydraulic-spread",
   "metadata": {},
   "outputs": [
    {
     "data": {
      "text/plain": [
       "True"
      ]
     },
     "execution_count": 15,
     "metadata": {},
     "output_type": "execute_result"
    }
   ],
   "source": [
    "ws == ws2"
   ]
  },
  {
   "cell_type": "code",
   "execution_count": 16,
   "id": "obvious-potter",
   "metadata": {},
   "outputs": [
    {
     "name": "stdout",
     "output_type": "stream",
     "text": [
      "Sheet\n"
     ]
    }
   ],
   "source": [
    "ws =wb[\"Sheet\"]\n",
    "print(ws.title)"
   ]
  },
  {
   "cell_type": "code",
   "execution_count": 17,
   "id": "rotary-publication",
   "metadata": {},
   "outputs": [
    {
     "name": "stdout",
     "output_type": "stream",
     "text": [
      "ws.title\n"
     ]
    }
   ],
   "source": [
    "ws.title =\"test1\"\n",
    "\n",
    "print(\"ws.title\")"
   ]
  },
  {
   "cell_type": "code",
   "execution_count": 19,
   "id": "loose-shift",
   "metadata": {},
   "outputs": [
    {
     "name": "stdout",
     "output_type": "stream",
     "text": [
      "['test1']\n"
     ]
    }
   ],
   "source": [
    "print(wb.sheetnames)"
   ]
  },
  {
   "cell_type": "code",
   "execution_count": 23,
   "id": "accessible-bidding",
   "metadata": {},
   "outputs": [
    {
     "data": {
      "text/plain": [
       "['test1', 'new1']"
      ]
     },
     "execution_count": 23,
     "metadata": {},
     "output_type": "execute_result"
    }
   ],
   "source": [
    "wb.create_sheet(title=\"new1\")\n",
    "\n",
    "wb.sheetnames"
   ]
  },
  {
   "cell_type": "code",
   "execution_count": 25,
   "id": "impossible-memory",
   "metadata": {},
   "outputs": [
    {
     "data": {
      "text/plain": [
       "['test1', 'new1', 'new2']"
      ]
     },
     "execution_count": 25,
     "metadata": {},
     "output_type": "execute_result"
    }
   ],
   "source": [
    "wb.create_sheet(title=\"new2\")\n",
    "\n",
    "wb.sheetnames"
   ]
  },
  {
   "cell_type": "code",
   "execution_count": 27,
   "id": "afraid-poison",
   "metadata": {},
   "outputs": [
    {
     "name": "stdout",
     "output_type": "stream",
     "text": [
      "test1\n",
      "new1\n",
      "new2\n"
     ]
    }
   ],
   "source": [
    "for sheet in wb:\n",
    "    print(sheet.title)"
   ]
  },
  {
   "cell_type": "code",
   "execution_count": 28,
   "id": "parental-germany",
   "metadata": {},
   "outputs": [
    {
     "data": {
      "text/plain": [
       "['test1', 'new3', 'new1', 'new2']"
      ]
     },
     "execution_count": 28,
     "metadata": {},
     "output_type": "execute_result"
    }
   ],
   "source": [
    "wb.create_sheet(title=\"new3\",index=1)\n",
    "\n",
    "wb.sheetnames"
   ]
  },
  {
   "cell_type": "code",
   "execution_count": 30,
   "id": "agricultural-klein",
   "metadata": {},
   "outputs": [
    {
     "name": "stdout",
     "output_type": "stream",
     "text": [
      "シート名一覧: ['test1', 'new3', 'new1', 'new2']\n",
      "現在のシート名: test1\n"
     ]
    }
   ],
   "source": [
    "print(\"シート名一覧:\",wb.sheetnames)\n",
    "print(\"現在のシート名:\",ws.title)\n",
    "\n",
    "ws.sheet_properties.tabColor =\"000000\""
   ]
  },
  {
   "cell_type": "code",
   "execution_count": 31,
   "id": "relevant-advocate",
   "metadata": {},
   "outputs": [],
   "source": [
    "wb.save(\"test.xlsx\")"
   ]
  },
  {
   "cell_type": "code",
   "execution_count": 32,
   "id": "retired-height",
   "metadata": {},
   "outputs": [
    {
     "name": "stdout",
     "output_type": "stream",
     "text": [
      "['test1', 'new3', 'new1', 'new2', 'new1 Copy']\n"
     ]
    }
   ],
   "source": [
    "wb.copy_worksheet(wb[\"new1\"])\n",
    "\n",
    "print(wb.sheetnames)"
   ]
  },
  {
   "cell_type": "code",
   "execution_count": 33,
   "id": "psychological-memory",
   "metadata": {},
   "outputs": [
    {
     "name": "stdout",
     "output_type": "stream",
     "text": [
      "['test1', 'new3', 'new2', 'new1 Copy']\n"
     ]
    }
   ],
   "source": [
    "wb.remove(wb[\"new1\"])\n",
    "\n",
    "print(wb.sheetnames)"
   ]
  },
  {
   "cell_type": "code",
   "execution_count": 39,
   "id": "professional-catalyst",
   "metadata": {},
   "outputs": [
    {
     "name": "stdout",
     "output_type": "stream",
     "text": [
      "test_file0.xlsx\n",
      "test_file1.xlsx\n",
      "test_file2.xlsx\n",
      "test_file3.xlsx\n",
      "test_file4.xlsx\n"
     ]
    }
   ],
   "source": [
    "for i in range(5):\n",
    "    file_name =\"test_file{}.xlsx\".format(i)\n",
    "    print(file_name)\n",
    "    \n",
    "    wb =openpyxl.Workbook()\n",
    "    wb.active\n",
    "    ws =wb[\"Sheet\"]\n",
    "    ws.title =\">>raw\"\n",
    "    \n",
    "    ws.sheet_properties.tabColor =\"ff0000\"\n",
    "    \n",
    "    wb.create_sheet(title=\"data\")\n",
    "    \n",
    "    wb.save(file_name)"
   ]
  },
  {
   "cell_type": "code",
   "execution_count": null,
   "id": "occupied-advertiser",
   "metadata": {},
   "outputs": [],
   "source": []
  }
 ],
 "metadata": {
  "kernelspec": {
   "display_name": "Python 3",
   "language": "python",
   "name": "python3"
  },
  "language_info": {
   "codemirror_mode": {
    "name": "ipython",
    "version": 3
   },
   "file_extension": ".py",
   "mimetype": "text/x-python",
   "name": "python",
   "nbconvert_exporter": "python",
   "pygments_lexer": "ipython3",
   "version": "3.8.5"
  }
 },
 "nbformat": 4,
 "nbformat_minor": 5
}
