{
 "cells": [
  {
   "cell_type": "code",
   "execution_count": 1,
   "id": "alive-blair",
   "metadata": {},
   "outputs": [],
   "source": [
    "import openpyxl"
   ]
  },
  {
   "cell_type": "code",
   "execution_count": 3,
   "id": "another-quest",
   "metadata": {},
   "outputs": [],
   "source": [
    "wb = openpyxl.Workbook()\n",
    "wb.active\n",
    "wb.save(\"test.xlsx\")"
   ]
  },
  {
   "cell_type": "code",
   "execution_count": 4,
   "id": "diverse-turkish",
   "metadata": {},
   "outputs": [
    {
     "data": {
      "text/plain": [
       "['Sheet']"
      ]
     },
     "execution_count": 4,
     "metadata": {},
     "output_type": "execute_result"
    }
   ],
   "source": [
    "wb.sheetnames"
   ]
  },
  {
   "cell_type": "code",
   "execution_count": 6,
   "id": "cultural-chassis",
   "metadata": {},
   "outputs": [],
   "source": [
    "ws =wb[\"Sheet\"]"
   ]
  },
  {
   "cell_type": "code",
   "execution_count": 7,
   "id": "accessible-virus",
   "metadata": {},
   "outputs": [
    {
     "data": {
      "text/plain": [
       "'Sheet'"
      ]
     },
     "execution_count": 7,
     "metadata": {},
     "output_type": "execute_result"
    }
   ],
   "source": [
    "ws.title"
   ]
  },
  {
   "cell_type": "code",
   "execution_count": 8,
   "id": "tribal-wichita",
   "metadata": {},
   "outputs": [],
   "source": [
    "cell1 =ws[\"A1\"]"
   ]
  },
  {
   "cell_type": "code",
   "execution_count": 9,
   "id": "assured-listing",
   "metadata": {},
   "outputs": [],
   "source": [
    "cell2 =ws.cell(row=1,column=1)"
   ]
  },
  {
   "cell_type": "code",
   "execution_count": 10,
   "id": "marked-nepal",
   "metadata": {},
   "outputs": [],
   "source": [
    "cell3 =ws.cell(1,1)"
   ]
  },
  {
   "cell_type": "code",
   "execution_count": 12,
   "id": "controlling-speaking",
   "metadata": {},
   "outputs": [
    {
     "data": {
      "text/plain": [
       "True"
      ]
     },
     "execution_count": 12,
     "metadata": {},
     "output_type": "execute_result"
    }
   ],
   "source": [
    "cell1==cell2==cell3"
   ]
  },
  {
   "cell_type": "code",
   "execution_count": 16,
   "id": "spectacular-fantasy",
   "metadata": {},
   "outputs": [],
   "source": [
    "range1=ws[\"A1\":\"B3\"]\n",
    "\n",
    "range2=ws[\"A1:B3\"]"
   ]
  },
  {
   "cell_type": "code",
   "execution_count": 17,
   "id": "entire-humidity",
   "metadata": {},
   "outputs": [
    {
     "data": {
      "text/plain": [
       "True"
      ]
     },
     "execution_count": 17,
     "metadata": {},
     "output_type": "execute_result"
    }
   ],
   "source": [
    "range1==range2"
   ]
  },
  {
   "cell_type": "code",
   "execution_count": 18,
   "id": "clinical-bride",
   "metadata": {},
   "outputs": [
    {
     "data": {
      "text/plain": [
       "((<Cell 'Sheet'.A1>, <Cell 'Sheet'.B1>),\n",
       " (<Cell 'Sheet'.A2>, <Cell 'Sheet'.B2>),\n",
       " (<Cell 'Sheet'.A3>, <Cell 'Sheet'.B3>))"
      ]
     },
     "execution_count": 18,
     "metadata": {},
     "output_type": "execute_result"
    }
   ],
   "source": [
    "range1"
   ]
  },
  {
   "cell_type": "code",
   "execution_count": 19,
   "id": "natural-processor",
   "metadata": {},
   "outputs": [
    {
     "data": {
      "text/plain": [
       "(<Cell 'Sheet'.A1>, <Cell 'Sheet'.B1>)"
      ]
     },
     "execution_count": 19,
     "metadata": {},
     "output_type": "execute_result"
    }
   ],
   "source": [
    "range1[0]"
   ]
  },
  {
   "cell_type": "code",
   "execution_count": 20,
   "id": "scientific-trustee",
   "metadata": {},
   "outputs": [
    {
     "data": {
      "text/plain": [
       "(<Cell 'Sheet'.A2>, <Cell 'Sheet'.B2>)"
      ]
     },
     "execution_count": 20,
     "metadata": {},
     "output_type": "execute_result"
    }
   ],
   "source": [
    "range1[1]"
   ]
  },
  {
   "cell_type": "code",
   "execution_count": 21,
   "id": "tracked-massage",
   "metadata": {},
   "outputs": [
    {
     "name": "stdout",
     "output_type": "stream",
     "text": [
      "<Cell 'Sheet'.A1>\n",
      "<Cell 'Sheet'.B1>\n",
      "<Cell 'Sheet'.A2>\n",
      "<Cell 'Sheet'.B2>\n",
      "<Cell 'Sheet'.A3>\n",
      "<Cell 'Sheet'.B3>\n"
     ]
    }
   ],
   "source": [
    "for row in range1:\n",
    "    for cell in row:\n",
    "        print(cell)"
   ]
  },
  {
   "cell_type": "code",
   "execution_count": 23,
   "id": "foreign-cheese",
   "metadata": {},
   "outputs": [
    {
     "name": "stdout",
     "output_type": "stream",
     "text": [
      "['A1']\n",
      "['A1', 'B1']\n",
      "['A2']\n",
      "['A2', 'B2']\n",
      "['A3']\n",
      "['A3', 'B3']\n"
     ]
    }
   ],
   "source": [
    "for row in range1:\n",
    "    format_l =[ ]\n",
    "    for cell in row:\n",
    "        format_l.append(cell.coordinate)\n",
    "        print(format_l)"
   ]
  },
  {
   "cell_type": "code",
   "execution_count": 26,
   "id": "czech-observation",
   "metadata": {},
   "outputs": [],
   "source": [
    "def show_formatted_cell(range_):\n",
    "    for row in range_:\n",
    "        format_l =[ ]\n",
    "        for cell in row:\n",
    "            format_l.append(cell.coordinate)\n",
    "        print(format_l)"
   ]
  },
  {
   "cell_type": "code",
   "execution_count": 27,
   "id": "charming-stuff",
   "metadata": {},
   "outputs": [
    {
     "name": "stdout",
     "output_type": "stream",
     "text": [
      "['A1', 'B1']\n",
      "['A2', 'B2']\n",
      "['A3', 'B3']\n"
     ]
    }
   ],
   "source": [
    "show_formatted_cell(range1)"
   ]
  },
  {
   "cell_type": "code",
   "execution_count": null,
   "id": "blond-tobago",
   "metadata": {},
   "outputs": [],
   "source": []
  }
 ],
 "metadata": {
  "kernelspec": {
   "display_name": "Python 3",
   "language": "python",
   "name": "python3"
  },
  "language_info": {
   "codemirror_mode": {
    "name": "ipython",
    "version": 3
   },
   "file_extension": ".py",
   "mimetype": "text/x-python",
   "name": "python",
   "nbconvert_exporter": "python",
   "pygments_lexer": "ipython3",
   "version": "3.8.5"
  }
 },
 "nbformat": 4,
 "nbformat_minor": 5
}
