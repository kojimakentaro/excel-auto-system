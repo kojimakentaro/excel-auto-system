{
 "cells": [
  {
   "cell_type": "code",
   "execution_count": 1,
   "id": "accepted-membrane",
   "metadata": {},
   "outputs": [],
   "source": [
    "import openpyxl"
   ]
  },
  {
   "cell_type": "code",
   "execution_count": 3,
   "id": "senior-belly",
   "metadata": {},
   "outputs": [],
   "source": [
    "wb = openpyxl.Workbook()\n",
    "wb.active\n",
    "wb.save(\"test.xlsx\")"
   ]
  },
  {
   "cell_type": "code",
   "execution_count": 4,
   "id": "fixed-adult",
   "metadata": {},
   "outputs": [
    {
     "data": {
      "text/plain": [
       "['Sheet']"
      ]
     },
     "execution_count": 4,
     "metadata": {},
     "output_type": "execute_result"
    }
   ],
   "source": [
    "wb.sheetnames"
   ]
  },
  {
   "cell_type": "code",
   "execution_count": 6,
   "id": "promotional-smoke",
   "metadata": {},
   "outputs": [],
   "source": [
    "ws =wb[\"Sheet\"]"
   ]
  },
  {
   "cell_type": "code",
   "execution_count": 7,
   "id": "thermal-angola",
   "metadata": {},
   "outputs": [
    {
     "data": {
      "text/plain": [
       "'Sheet'"
      ]
     },
     "execution_count": 7,
     "metadata": {},
     "output_type": "execute_result"
    }
   ],
   "source": [
    "ws.title"
   ]
  },
  {
   "cell_type": "code",
   "execution_count": 8,
   "id": "nutritional-discovery",
   "metadata": {},
   "outputs": [],
   "source": [
    "cell1 =ws[\"A1\"]"
   ]
  },
  {
   "cell_type": "code",
   "execution_count": 9,
   "id": "chicken-university",
   "metadata": {},
   "outputs": [],
   "source": [
    "cell2 =ws.cell(row=1,column=1)"
   ]
  },
  {
   "cell_type": "code",
   "execution_count": 10,
   "id": "compressed-estonia",
   "metadata": {},
   "outputs": [],
   "source": [
    "cell3 =ws.cell(1,1)"
   ]
  },
  {
   "cell_type": "code",
   "execution_count": 12,
   "id": "gross-villa",
   "metadata": {},
   "outputs": [
    {
     "data": {
      "text/plain": [
       "True"
      ]
     },
     "execution_count": 12,
     "metadata": {},
     "output_type": "execute_result"
    }
   ],
   "source": [
    "cell1==cell2==cell3"
   ]
  },
  {
   "cell_type": "code",
   "execution_count": 16,
   "id": "loose-attribute",
   "metadata": {},
   "outputs": [],
   "source": [
    "range1=ws[\"A1\":\"B3\"]\n",
    "\n",
    "range2=ws[\"A1:B3\"]"
   ]
  },
  {
   "cell_type": "code",
   "execution_count": 17,
   "id": "intense-resort",
   "metadata": {},
   "outputs": [
    {
     "data": {
      "text/plain": [
       "True"
      ]
     },
     "execution_count": 17,
     "metadata": {},
     "output_type": "execute_result"
    }
   ],
   "source": [
    "range1==range2"
   ]
  },
  {
   "cell_type": "code",
   "execution_count": 18,
   "id": "iraqi-poker",
   "metadata": {},
   "outputs": [
    {
     "data": {
      "text/plain": [
       "((<Cell 'Sheet'.A1>, <Cell 'Sheet'.B1>),\n",
       " (<Cell 'Sheet'.A2>, <Cell 'Sheet'.B2>),\n",
       " (<Cell 'Sheet'.A3>, <Cell 'Sheet'.B3>))"
      ]
     },
     "execution_count": 18,
     "metadata": {},
     "output_type": "execute_result"
    }
   ],
   "source": [
    "range1"
   ]
  },
  {
   "cell_type": "code",
   "execution_count": 19,
   "id": "composite-pierre",
   "metadata": {},
   "outputs": [
    {
     "data": {
      "text/plain": [
       "(<Cell 'Sheet'.A1>, <Cell 'Sheet'.B1>)"
      ]
     },
     "execution_count": 19,
     "metadata": {},
     "output_type": "execute_result"
    }
   ],
   "source": [
    "range1[0]"
   ]
  },
  {
   "cell_type": "code",
   "execution_count": 20,
   "id": "universal-adjustment",
   "metadata": {},
   "outputs": [
    {
     "data": {
      "text/plain": [
       "(<Cell 'Sheet'.A2>, <Cell 'Sheet'.B2>)"
      ]
     },
     "execution_count": 20,
     "metadata": {},
     "output_type": "execute_result"
    }
   ],
   "source": [
    "range1[1]"
   ]
  },
  {
   "cell_type": "code",
   "execution_count": 21,
   "id": "stainless-packaging",
   "metadata": {},
   "outputs": [
    {
     "name": "stdout",
     "output_type": "stream",
     "text": [
      "<Cell 'Sheet'.A1>\n",
      "<Cell 'Sheet'.B1>\n",
      "<Cell 'Sheet'.A2>\n",
      "<Cell 'Sheet'.B2>\n",
      "<Cell 'Sheet'.A3>\n",
      "<Cell 'Sheet'.B3>\n"
     ]
    }
   ],
   "source": [
    "for row in range1:\n",
    "    for cell in row:\n",
    "        print(cell)"
   ]
  },
  {
   "cell_type": "code",
   "execution_count": 23,
   "id": "alpha-input",
   "metadata": {},
   "outputs": [
    {
     "name": "stdout",
     "output_type": "stream",
     "text": [
      "['A1']\n",
      "['A1', 'B1']\n",
      "['A2']\n",
      "['A2', 'B2']\n",
      "['A3']\n",
      "['A3', 'B3']\n"
     ]
    }
   ],
   "source": [
    "for row in range1:\n",
    "    format_l =[ ]\n",
    "    for cell in row:\n",
    "        format_l.append(cell.coordinate)\n",
    "        print(format_l)"
   ]
  },
  {
   "cell_type": "code",
   "execution_count": 26,
   "id": "covered-basement",
   "metadata": {},
   "outputs": [],
   "source": [
    "def show_formatted_cell(range_):\n",
    "    for row in range_:\n",
    "        format_l =[ ]\n",
    "        for cell in row:\n",
    "            format_l.append(cell.coordinate)\n",
    "        print(format_l)"
   ]
  },
  {
   "cell_type": "code",
   "execution_count": 27,
   "id": "linear-candidate",
   "metadata": {
    "scrolled": true
   },
   "outputs": [
    {
     "name": "stdout",
     "output_type": "stream",
     "text": [
      "['A1', 'B1']\n",
      "['A2', 'B2']\n",
      "['A3', 'B3']\n"
     ]
    }
   ],
   "source": [
    "show_formatted_cell(range1)"
   ]
  },
  {
   "cell_type": "code",
   "execution_count": 29,
   "id": "federal-temperature",
   "metadata": {},
   "outputs": [
    {
     "name": "stdout",
     "output_type": "stream",
     "text": [
      "['Sheet']\n"
     ]
    }
   ],
   "source": [
    "print(wb.sheetnames)\n",
    "ws =wb[\"Sheet\"]"
   ]
  },
  {
   "cell_type": "code",
   "execution_count": 30,
   "id": "brief-channels",
   "metadata": {},
   "outputs": [],
   "source": [
    "range1 =ws[\"A1:C6\"]"
   ]
  },
  {
   "cell_type": "code",
   "execution_count": 31,
   "id": "respiratory-warning",
   "metadata": {},
   "outputs": [],
   "source": [
    "def show_formatted_cell(range1):\n",
    "    for row in range1:\n",
    "        format_l =[ ]\n",
    "        for cell in row:\n",
    "            format_l.append(cell.coordinate)\n",
    "        print(format_l)"
   ]
  },
  {
   "cell_type": "code",
   "execution_count": 32,
   "id": "utility-acceptance",
   "metadata": {},
   "outputs": [
    {
     "name": "stdout",
     "output_type": "stream",
     "text": [
      "['A1', 'B1', 'C1']\n",
      "['A2', 'B2', 'C2']\n",
      "['A3', 'B3', 'C3']\n",
      "['A4', 'B4', 'C4']\n",
      "['A5', 'B5', 'C5']\n",
      "['A6', 'B6', 'C6']\n"
     ]
    }
   ],
   "source": [
    "show_formatted_cell(range1)"
   ]
  },
  {
   "cell_type": "code",
   "execution_count": 38,
   "id": "lightweight-happiness",
   "metadata": {},
   "outputs": [
    {
     "name": "stdout",
     "output_type": "stream",
     "text": [
      "['A2', 'B2', 'C2']\n",
      "['A3', 'B3', 'C3']\n",
      "['A4', 'B4', 'C4']\n",
      "['A5', 'B5', 'C5']\n",
      "['A6', 'B6', 'C6']\n"
     ]
    }
   ],
   "source": [
    "for row in ws.iter_rows(min_row=2):\n",
    "    format_l=[]\n",
    "    for cell in row:\n",
    "        format_l.append(cell.coordinate)\n",
    "    print(format_l)"
   ]
  },
  {
   "cell_type": "code",
   "execution_count": 39,
   "id": "known-client",
   "metadata": {},
   "outputs": [
    {
     "name": "stdout",
     "output_type": "stream",
     "text": [
      "['B2', 'C2']\n",
      "['B3', 'C3']\n",
      "['B4', 'C4']\n",
      "['B5', 'C5']\n",
      "['B6', 'C6']\n"
     ]
    }
   ],
   "source": [
    "for row in ws.iter_rows(min_row=2,min_col=2):\n",
    "    format_l=[]\n",
    "    for cell in row:\n",
    "        format_l.append(cell.coordinate)\n",
    "    print(format_l)"
   ]
  },
  {
   "cell_type": "code",
   "execution_count": 45,
   "id": "bronze-connection",
   "metadata": {},
   "outputs": [],
   "source": [
    "def show_formated_cell(ws, min_row=1,min_col=1):\n",
    "    for row in ws.iter_rows(min_row,min_col):\n",
    "        format_l=[]\n",
    "        for cell in row:\n",
    "            format_l.append(cell.coordinate)\n",
    "            print(format_l)"
   ]
  },
  {
   "cell_type": "code",
   "execution_count": 48,
   "id": "single-earthquake",
   "metadata": {},
   "outputs": [
    {
     "name": "stdout",
     "output_type": "stream",
     "text": [
      "['A1']\n",
      "['A1', 'B1']\n",
      "['A1', 'B1', 'C1']\n",
      "['A2']\n",
      "['A2', 'B2']\n",
      "['A2', 'B2', 'C2']\n"
     ]
    }
   ],
   "source": [
    "show_formated_cell(ws)\n",
    "\n",
    "show_formated_cell(ws,2,2)"
   ]
  },
  {
   "cell_type": "code",
   "execution_count": 49,
   "id": "usual-marriage",
   "metadata": {},
   "outputs": [],
   "source": [
    "row1 =ws[1]"
   ]
  },
  {
   "cell_type": "code",
   "execution_count": 50,
   "id": "natural-story",
   "metadata": {},
   "outputs": [
    {
     "data": {
      "text/plain": [
       "(<Cell 'Sheet'.A1>, <Cell 'Sheet'.B1>, <Cell 'Sheet'.C1>)"
      ]
     },
     "execution_count": 50,
     "metadata": {},
     "output_type": "execute_result"
    }
   ],
   "source": [
    "row1"
   ]
  },
  {
   "cell_type": "code",
   "execution_count": 51,
   "id": "distinguished-layer",
   "metadata": {},
   "outputs": [
    {
     "data": {
      "text/plain": [
       "<Cell 'Sheet'.A1>"
      ]
     },
     "execution_count": 51,
     "metadata": {},
     "output_type": "execute_result"
    }
   ],
   "source": [
    "row1[0]"
   ]
  },
  {
   "cell_type": "code",
   "execution_count": 53,
   "id": "hundred-grain",
   "metadata": {},
   "outputs": [],
   "source": [
    "cell1 =ws.cell(row=1,column=1)"
   ]
  },
  {
   "cell_type": "code",
   "execution_count": 61,
   "id": "excess-characteristic",
   "metadata": {},
   "outputs": [
    {
     "name": "stdout",
     "output_type": "stream",
     "text": [
      "A1\n",
      "1\n",
      "1\n",
      "A\n"
     ]
    }
   ],
   "source": [
    "print(cell1.coordinate)\n",
    "print(cell1.row)\n",
    "print(cell1.column)\n",
    "print(cell1.column_letter)"
   ]
  },
  {
   "cell_type": "code",
   "execution_count": 63,
   "id": "confident-dimension",
   "metadata": {},
   "outputs": [
    {
     "name": "stdout",
     "output_type": "stream",
     "text": [
      "<Cell 'Sheet'.A1>\n"
     ]
    }
   ],
   "source": [
    "ws = wb[\"Sheet\"]\n",
    "\n",
    "cell1 =ws.cell(row=1,column=1)\n",
    "print(cell1)"
   ]
  },
  {
   "cell_type": "code",
   "execution_count": 64,
   "id": "level-guyana",
   "metadata": {},
   "outputs": [
    {
     "name": "stdout",
     "output_type": "stream",
     "text": [
      "1\n"
     ]
    }
   ],
   "source": [
    "cell1.value=1\n",
    "print(cell1.value)"
   ]
  },
  {
   "cell_type": "code",
   "execution_count": 65,
   "id": "substantial-arrest",
   "metadata": {},
   "outputs": [],
   "source": [
    "wb.save(\"test.xlsx\")"
   ]
  },
  {
   "cell_type": "code",
   "execution_count": 67,
   "id": "mental-shopping",
   "metadata": {},
   "outputs": [
    {
     "name": "stdout",
     "output_type": "stream",
     "text": [
      "セルの場所 A2\n",
      "セルの値 2\n"
     ]
    }
   ],
   "source": [
    "cell2 =ws.cell(row=2,column =1)\n",
    "cell2.value=2\n",
    "print(\"セルの場所\",cell2.coordinate)\n",
    "print(\"セルの値\",cell2.value)"
   ]
  },
  {
   "cell_type": "code",
   "execution_count": 68,
   "id": "indoor-wichita",
   "metadata": {},
   "outputs": [],
   "source": [
    "wb.save(\"test.xlsx\")"
   ]
  },
  {
   "cell_type": "code",
   "execution_count": 71,
   "id": "handy-regular",
   "metadata": {},
   "outputs": [
    {
     "name": "stdout",
     "output_type": "stream",
     "text": [
      "A3\n",
      "10\n"
     ]
    }
   ],
   "source": [
    "cell3 =ws.cell(row=3,column=1,value=10)\n",
    "print(cell3.coordinate)\n",
    "print(cell3.value)\n",
    "wb.save(\"test.xlsx\")"
   ]
  },
  {
   "cell_type": "code",
   "execution_count": 78,
   "id": "behind-disclosure",
   "metadata": {},
   "outputs": [
    {
     "name": "stdout",
     "output_type": "stream",
     "text": [
      "B1\n"
     ]
    }
   ],
   "source": [
    "cell4 = ws.cell(row =1,column=2)\n",
    "print(cell4.coordinate)\n",
    "cell4.value = \"SUM(A1:A3)\"\n",
    "wb.save(\"test.xlsx\")"
   ]
  },
  {
   "cell_type": "code",
   "execution_count": 79,
   "id": "advisory-scholarship",
   "metadata": {},
   "outputs": [
    {
     "name": "stdout",
     "output_type": "stream",
     "text": [
      "(1, 'SUM(A1:A3)', None)\n",
      "(2, None, None)\n",
      "(10, None, None)\n",
      "(None, None, None)\n",
      "(None, None, None)\n",
      "(None, None, 'SUM(A1:A3)')\n"
     ]
    }
   ],
   "source": [
    "for row in ws.values:\n",
    "    print(row)"
   ]
  },
  {
   "cell_type": "code",
   "execution_count": 81,
   "id": "coral-serve",
   "metadata": {},
   "outputs": [
    {
     "name": "stdout",
     "output_type": "stream",
     "text": [
      "B2\n",
      "1.2345\n"
     ]
    }
   ],
   "source": [
    "cell5 =ws.cell(row =2,column=2,value=1.2345)\n",
    "print(cell5.coordinate)\n",
    "print(cell5.value)"
   ]
  },
  {
   "cell_type": "code",
   "execution_count": 82,
   "id": "million-thanks",
   "metadata": {},
   "outputs": [],
   "source": [
    "from datetime import date"
   ]
  },
  {
   "cell_type": "code",
   "execution_count": 83,
   "id": "metropolitan-secondary",
   "metadata": {},
   "outputs": [
    {
     "name": "stdout",
     "output_type": "stream",
     "text": [
      "B3\n",
      "2020-10-10\n"
     ]
    }
   ],
   "source": [
    "cell6 =ws.cell(row=3,column=2,value=date(2020,10,10))\n",
    "print(cell6.coordinate)\n",
    "print(cell6.value)"
   ]
  },
  {
   "cell_type": "code",
   "execution_count": 84,
   "id": "english-advertiser",
   "metadata": {},
   "outputs": [],
   "source": [
    "wb.save(\"test.xlsx\")"
   ]
  },
  {
   "cell_type": "code",
   "execution_count": 89,
   "id": "fleet-buddy",
   "metadata": {},
   "outputs": [
    {
     "name": "stdout",
     "output_type": "stream",
     "text": [
      "0.00\n",
      "yyyy年mm月dd日\n"
     ]
    }
   ],
   "source": [
    "ws[\"B2\"].number_format=\"0.00\"\n",
    "ws[\"B3\"].number_format=\"yyyy年mm月dd日\"\n",
    "print(ws[\"B2\"].number_format)\n",
    "print(ws[\"B3\"].number_format)"
   ]
  },
  {
   "cell_type": "code",
   "execution_count": null,
   "id": "unique-kelly",
   "metadata": {},
   "outputs": [],
   "source": []
  }
 ],
 "metadata": {
  "kernelspec": {
   "display_name": "Python 3",
   "language": "python",
   "name": "python3"
  },
  "language_info": {
   "codemirror_mode": {
    "name": "ipython",
    "version": 3
   },
   "file_extension": ".py",
   "mimetype": "text/x-python",
   "name": "python",
   "nbconvert_exporter": "python",
   "pygments_lexer": "ipython3",
   "version": "3.8.5"
  }
 },
 "nbformat": 4,
 "nbformat_minor": 5
}
